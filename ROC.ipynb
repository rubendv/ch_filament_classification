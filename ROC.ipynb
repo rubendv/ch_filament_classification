{
 "cells": [
  {
   "cell_type": "code",
   "execution_count": 63,
   "metadata": {
    "collapsed": true
   },
   "outputs": [],
   "source": [
    "import numpy as np\n",
    "import json\n",
    "%matplotlib inline\n",
    "import matplotlib.pyplot as plt\n",
    "from sklearn.metrics import roc_curve, roc_auc_score\n",
    "import pandas as pd\n",
    "import os"
   ]
  },
  {
   "cell_type": "code",
   "execution_count": 38,
   "metadata": {
    "collapsed": false
   },
   "outputs": [],
   "source": [
    "with open('results/results/results_with_hmi.json') as f:\n",
    "    results_with_hmi = json.load(f)\n",
    "with open('results/results/results_without_hmi.json') as f:\n",
    "    results_without_hmi = json.load(f)"
   ]
  },
  {
   "cell_type": "code",
   "execution_count": 85,
   "metadata": {
    "collapsed": false
   },
   "outputs": [],
   "source": [
    "def plot_roc(results, classifier_name, label):\n",
    "    plt.gcf().set_size_inches((8,8))\n",
    "    y_test = []\n",
    "    y_score = []\n",
    "    for result in results['roc'][classifier_name]:\n",
    "        y_test.append(np.array(result['y_test']))\n",
    "        y_score_tmp = np.array(result['y_score'])\n",
    "        if y_score_tmp.shape[-1] == 1:\n",
    "            y_score_tmp = y_score_tmp[...,0]\n",
    "        y_score.append(y_score_tmp)\n",
    "    y_test, y_score = map(np.array, (y_test, y_score))\n",
    "    fpr, tpr, _ = roc_curve(y_test.ravel(), y_score.ravel())\n",
    "    auc = roc_auc_score(y_test.ravel(), y_score.ravel(), average='weighted')\n",
    "    plt.plot(fpr, tpr, label='{} {}: area {:.4}'.format(classifier_name, label, auc))\n",
    "    return fpr, tpr, auc"
   ]
  },
  {
   "cell_type": "code",
   "execution_count": null,
   "metadata": {
    "collapsed": false
   },
   "outputs": [],
   "source": [
    "results = {}\n",
    "for suffix in ['with_hmi', 'without_hmi']:\n",
    "    with open('results/results/results_{}.json'.format(suffix)) as f:\n",
    "        results[suffix] = json.load(f)\n",
    "for classifier_name in ['SVM', 'Linear SVM']:\n",
    "    for suffix in ['with_hmi', 'without_hmi']:\n",
    "        fpr, tpr, auc = plot_roc(results[suffix], classifier_name, suffix)\n",
    "        pd.DataFrame({'fpr': fpr, 'tpr': tpr}).to_csv('results/roc_{}_{}.csv'.format(classifier_name.replace(' ', '_'), suffix))\n",
    "plt.legend(loc='best')\n",
    "plt.xlabel('FPR')\n",
    "plt.ylabel('TPR')\n",
    "plt.savefig('results/roc_plot.pdf')\n",
    "    "
   ]
  },
  {
   "cell_type": "code",
   "execution_count": null,
   "metadata": {
    "collapsed": true
   },
   "outputs": [],
   "source": []
  }
 ],
 "metadata": {
  "kernelspec": {
   "display_name": "Python 2",
   "language": "python",
   "name": "python2"
  },
  "language_info": {
   "codemirror_mode": {
    "name": "ipython",
    "version": 2
   },
   "file_extension": ".py",
   "mimetype": "text/x-python",
   "name": "python",
   "nbconvert_exporter": "python",
   "pygments_lexer": "ipython2",
   "version": "2.7.6"
  }
 },
 "nbformat": 4,
 "nbformat_minor": 0
}
